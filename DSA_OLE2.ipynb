{
  "nbformat": 4,
  "nbformat_minor": 0,
  "metadata": {
    "colab": {
      "provenance": []
    },
    "kernelspec": {
      "name": "python3",
      "display_name": "Python 3"
    },
    "language_info": {
      "name": "python"
    }
  },
  "cells": [
    {
      "cell_type": "code",
      "execution_count": 1,
      "metadata": {
        "id": "R5U3mmaQqlBt"
      },
      "outputs": [],
      "source": [
        "###  22F-BSAI-03\n",
        "#### AREEBA AHMED\n"
      ]
    },
    {
      "cell_type": "code",
      "source": [
        "from collections import Counter\n"
      ],
      "metadata": {
        "id": "WfNqoFQytTkl"
      },
      "execution_count": 14,
      "outputs": []
    },
    {
      "cell_type": "code",
      "source": [
        "def palindrome(s):\n",
        "\n",
        "  counts = Counter(s)\n",
        "  #### initial length of palindrome\n",
        "  length = 0\n",
        "  palindrome = \"\"\n",
        "\n",
        "  for char, count in counts.items():\n",
        "    ### pairs of characters\n",
        "    palindrome += char * (count // 2)\n",
        "    length += count // 2 * 2\n",
        "\n",
        "  ### Add single character\n",
        "  for char, count in counts.items():\n",
        "    if count % 2 == 1:\n",
        "      palindrome += char\n",
        "      break\n",
        "\n",
        "  # Add reverse\n",
        "  palindrome += palindrome[:-1][::-1]\n",
        "\n",
        "  return length, palindrome\n",
        "\n",
        "# palindrome word\n",
        "s = \"areeba\"\n",
        "\n",
        "length, palindrome = palindrome(s)\n",
        "print(\"Longest palindrome length:\", length)\n",
        "print(\"One possible palindrome:\", palindrome)"
      ],
      "metadata": {
        "colab": {
          "base_uri": "https://localhost:8080/"
        },
        "id": "S3t81s8HvAck",
        "outputId": "faa0a3f4-9b3d-4015-86f4-4b63fe868a03"
      },
      "execution_count": 19,
      "outputs": [
        {
          "output_type": "stream",
          "name": "stdout",
          "text": [
            "Longest palindrome length: 4\n",
            "One possible palindrome: aerea\n"
          ]
        }
      ]
    },
    {
      "cell_type": "code",
      "source": [],
      "metadata": {
        "id": "m4xhefGaxSv_"
      },
      "execution_count": null,
      "outputs": []
    }
  ]
}